{
 "cells": [
  {
   "cell_type": "code",
   "execution_count": null,
   "metadata": {},
   "outputs": [],
   "source": [
    "# https://developer.zendesk.com/rest_api/docs/support/users#list-users\n",
    "# http://docs.facetoe.com.au/zenpy.html\n",
    "\n",
    "from zenpy import Zenpy\n",
    "import os\n",
    "import requests\n",
    "from datetime import datetime\n",
    "import calendar\n",
    "from dateutil.relativedelta import relativedelta"
   ]
  },
  {
   "cell_type": "code",
   "execution_count": null,
   "metadata": {},
   "outputs": [],
   "source": [
    "creds = {\n",
    "    'email' : os.environ['ZD_EMAIL'],\n",
    "    'token' : os.environ['ZD_API_KEY'],\n",
    "    'subdomain': os.environ['ZD_SUBDOMAIN']\n",
    "}\n",
    "zenpy_client = Zenpy(**creds)"
   ]
  },
  {
   "cell_type": "code",
   "execution_count": null,
   "metadata": {},
   "outputs": [],
   "source": [
    "def generate_date_info(past_months):\n",
    "    ranges = []\n",
    "    \n",
    "    today = datetime.today()\n",
    "    \n",
    "    for i in range(past_months):\n",
    "        previous_month = today - relativedelta(months=i)\n",
    "        year = previous_month.year\n",
    "        ranges.append([\n",
    "            previous_month.year,\n",
    "            previous_month.month,\n",
    "            calendar.monthrange(year, previous_month.month)[1]\n",
    "        ])\n",
    "    return ranges\n",
    "\n",
    "\n",
    "def generate_stats(past_months):\n",
    "    stats = []\n",
    "\n",
    "    for date_info in generate_date_info(past_months):\n",
    "        year = date_info[0]\n",
    "        month = date_info[1]\n",
    "        month_end = date_info[2]\n",
    "\n",
    "        start = datetime(year=year, month=month, day=1, hour=0, minute=0, second=0)\n",
    "        end = datetime(year=year, month=month, day=month_end, hour=23, minute=59, second=59)\n",
    "\n",
    "        result = zenpy_client.search(\n",
    "            \"*\",\n",
    "            created_between=[start, end],\n",
    "            type='ticket',\n",
    "            minus='subject:\"Teleport Security*\"+-subject:\"Voicemail*\"'\n",
    "        )\n",
    "\n",
    "        stats.append([year, month, result])\n",
    "\n",
    "    return stats\n",
    "\n",
    "\n",
    "def output_results():\n",
    "    stats = generate_stats(past_months=2)\n",
    "    \n",
    "    for s in stats:\n",
    "        for ticket in s[2]:\n",
    "            org_name = ticket.organization.name if ticket.organization else 'N/A'\n",
    "            requester = ticket.requester.email\n",
    "            domain = requester.split('@')[1] if requester else 'N/A'\n",
    "            \n",
    "            # 360040554154 == severity\n",
    "            # 360038596994 == product\n",
    "\n",
    "            product_custom_field = list(filter(lambda d: d['id'] == 360038596994, ticket.custom_fields))[0]['value']\n",
    "            severity_custom_field = list(filter(lambda d: d['id'] == 360040554154, ticket.custom_fields))[0]['value']\n",
    "\n",
    "            print(\n",
    "                '\"{}/{}\",\"{}\",\"{}\",\"{}\",\"{}\",\"{}\",\"{}\",\"{}\"'.format(\n",
    "                    s[1], s[0], ticket.id, ticket.subject, org_name, domain, requester, product_custom_field, severity_custom_field\n",
    "                )\n",
    "            )\n",
    "            \n",
    "output_results()\n"
   ]
  },
  {
   "cell_type": "code",
   "execution_count": null,
   "metadata": {},
   "outputs": [],
   "source": [
    "def get_ticket_metrics():\n",
    "    zenpy_client.disable_caching()\n",
    "    all_metric_records = zenpy_client.ticket_metrics()\n",
    "    for metric in all_metric_records:\n",
    "        timestamp = metric.created.strftime(\"%m/%d/%Y\")\n",
    "        ticket_id = metric.ticket_id\n",
    "        reply_time_in_minutes = metric.reply_time_in_minutes['calendar']\n",
    "        first_resolution_time_in_minutes = metric.first_resolution_time_in_minutes['calendar']\n",
    "        full_resolution_time_in_minutes = metric.full_resolution_time_in_minutes['calendar']\n",
    "        agent_wait_time_in_minutes = metric.agent_wait_time_in_minutes['calendar']\n",
    "        requester_wait_time_in_minutes = metric.requester_wait_time_in_minutes['business']\n",
    "        replies = metric.replies\n",
    "        \n",
    "        print('{},{},{},{},{},{},{},{}'.format(\n",
    "            timestamp,\n",
    "            ticket_id,\n",
    "            reply_time_in_minutes,\n",
    "            first_resolution_time_in_minutes,\n",
    "            full_resolution_time_in_minutes,\n",
    "            agent_wait_time_in_minutes,\n",
    "            requester_wait_time_in_minutes,\n",
    "            replies\n",
    "        ))\n",
    "\n",
    "get_ticket_metrics()"
   ]
  },
  {
   "cell_type": "code",
   "execution_count": null,
   "metadata": {},
   "outputs": [],
   "source": [
    "organizations = zenpy_client.organizations()\n",
    "org_map = {}\n",
    "org_list = []"
   ]
  },
  {
   "cell_type": "code",
   "execution_count": null,
   "metadata": {},
   "outputs": [],
   "source": [
    "for org in organizations:\n",
    "    org_map[org.id] = org.name\n",
    "    for domain in org.domain_names:\n",
    "        org_list.append(domain)\n",
    "    print(\"{},{}\".format(org.name, org.domain_names))"
   ]
  },
  {
   "cell_type": "code",
   "execution_count": null,
   "metadata": {},
   "outputs": [],
   "source": [
    "users = zenpy_client.users()"
   ]
  },
  {
   "cell_type": "code",
   "execution_count": null,
   "metadata": {},
   "outputs": [],
   "source": [
    "for u in users:\n",
    "    if u.role in 'end-user':\n",
    "        user_domain = u.email.split('@')[1] if u.email else 'BLAH'\n",
    "        print(\n",
    "            \"{},{},{},{}\".format(\n",
    "                u.email,\n",
    "                org_map[u.organization_id] if u.organization_id in org_map else None,\n",
    "                u.role,\n",
    "                'YES' if user_domain in org_list else 'NO'\n",
    "            ),\n",
    "        )"
   ]
  },
  {
   "cell_type": "code",
   "execution_count": null,
   "metadata": {},
   "outputs": [],
   "source": [
    "for u in users:\n",
    "    if u.email is None:\n",
    "        print(u.id)"
   ]
  },
  {
   "cell_type": "code",
   "execution_count": null,
   "metadata": {},
   "outputs": [],
   "source": [
    "users = zenpy_client.users(role='agent')"
   ]
  },
  {
   "cell_type": "code",
   "execution_count": null,
   "metadata": {},
   "outputs": [],
   "source": [
    "list(users)"
   ]
  },
  {
   "cell_type": "code",
   "execution_count": null,
   "metadata": {},
   "outputs": [],
   "source": [
    "users = zenpy_client.users(role='admin')\n",
    "for user in users:\n",
    "    print(\"{}: {}\".format(user.email, user.last_login_at))"
   ]
  },
  {
   "cell_type": "code",
   "execution_count": null,
   "metadata": {},
   "outputs": [],
   "source": [
    "print()"
   ]
  },
  {
   "cell_type": "code",
   "execution_count": null,
   "metadata": {},
   "outputs": [],
   "source": []
  },
  {
   "cell_type": "code",
   "execution_count": null,
   "metadata": {},
   "outputs": [],
   "source": []
  },
  {
   "cell_type": "code",
   "execution_count": null,
   "metadata": {},
   "outputs": [],
   "source": [
    "test = 1 + 2\n",
    "print(test)"
   ]
  },
  {
   "cell_type": "code",
   "execution_count": null,
   "metadata": {},
   "outputs": [],
   "source": []
  }
 ],
 "metadata": {
  "kernelspec": {
   "display_name": "Python 3",
   "language": "python",
   "name": "python3"
  },
  "language_info": {
   "codemirror_mode": {
    "name": "ipython",
    "version": 3
   },
   "file_extension": ".py",
   "mimetype": "text/x-python",
   "name": "python",
   "nbconvert_exporter": "python",
   "pygments_lexer": "ipython3",
   "version": "3.8.6"
  }
 },
 "nbformat": 4,
 "nbformat_minor": 4
}
